{
  "nbformat": 4,
  "nbformat_minor": 0,
  "metadata": {
    "colab": {
      "provenance": [],
      "authorship_tag": "ABX9TyPpkmFk847KDmDlgYXk+mhu",
      "include_colab_link": true
    },
    "kernelspec": {
      "name": "python3",
      "display_name": "Python 3"
    },
    "language_info": {
      "name": "python"
    }
  },
  "cells": [
    {
      "cell_type": "markdown",
      "metadata": {
        "id": "view-in-github",
        "colab_type": "text"
      },
      "source": [
        "<a href=\"https://colab.research.google.com/github/politeixeira/python-para-machine-learning/blob/main/Python_ML_aula_02.ipynb\" target=\"_parent\"><img src=\"https://colab.research.google.com/assets/colab-badge.svg\" alt=\"Open In Colab\"/></a>"
      ]
    },
    {
      "cell_type": "markdown",
      "source": [
        "## Criando estruturas em Listas\n",
        "\n",
        "Objetivos: aprender como criar e manipular listas dentro do Python, filtrar elementos de uma lista, criar estruturas de repetição for e utilizar o comando append dentro de listas.\n"
      ],
      "metadata": {
        "id": "EP-E-14bUOxe"
      }
    },
    {
      "cell_type": "code",
      "execution_count": null,
      "metadata": {
        "colab": {
          "base_uri": "https://localhost:8080/"
        },
        "id": "--AGQdfCSV0l",
        "outputId": "4a1f1bf1-5f52-4934-9d78-514e99b8e318"
      },
      "outputs": [
        {
          "output_type": "execute_result",
          "data": {
            "text/plain": [
              "list"
            ]
          },
          "metadata": {},
          "execution_count": 2
        }
      ],
      "source": [
        "# Python identifica uma variável como lista quando ela recebe valores dentro de colchetes\n",
        "lista1 = [1, 2, 3]\n",
        "type(lista1)"
      ]
    },
    {
      "cell_type": "code",
      "source": [
        "# Trazer o primeiro elemento da lista1\n",
        "lista1[0]"
      ],
      "metadata": {
        "colab": {
          "base_uri": "https://localhost:8080/"
        },
        "id": "YxbROTKRT1BL",
        "outputId": "4301042c-37de-41dc-bfdb-10db878a8dc2"
      },
      "execution_count": null,
      "outputs": [
        {
          "output_type": "execute_result",
          "data": {
            "text/plain": [
              "1"
            ]
          },
          "metadata": {},
          "execution_count": 3
        }
      ]
    },
    {
      "cell_type": "code",
      "source": [
        "# Listas dentro da lista2\n",
        "lista2 = [[1, 2, 3], [4, 5, 6], [7, 8, 9]]\n",
        "lista2[0]"
      ],
      "metadata": {
        "colab": {
          "base_uri": "https://localhost:8080/"
        },
        "id": "M4IP9znxUpQa",
        "outputId": "92ad105b-40f6-4b7c-827d-f052570577cb"
      },
      "execution_count": null,
      "outputs": [
        {
          "output_type": "execute_result",
          "data": {
            "text/plain": [
              "[1, 2, 3]"
            ]
          },
          "metadata": {},
          "execution_count": 4
        }
      ]
    },
    {
      "cell_type": "code",
      "source": [
        "# Acessando item de uma lista dentro de outra lista\n",
        "lista2[0][2]"
      ],
      "metadata": {
        "colab": {
          "base_uri": "https://localhost:8080/"
        },
        "id": "WVfr6feTVQf_",
        "outputId": "43447f66-6c99-4ff5-adcc-3e31d7d59e1a"
      },
      "execution_count": null,
      "outputs": [
        {
          "output_type": "execute_result",
          "data": {
            "text/plain": [
              "3"
            ]
          },
          "metadata": {},
          "execution_count": 5
        }
      ]
    },
    {
      "cell_type": "code",
      "source": [
        "# Fazendo sorteio de uma lista de cidades utilizando a biblioteca random e a função choice\n",
        "import random\n",
        "cidades = ['São Paulo', 'Rio de Janeiro', 'Belo Horizonte', 'Araraquara']\n",
        "escolhida = random.choice(cidades)\n",
        "print('A cidade escolhida é:', escolhida)"
      ],
      "metadata": {
        "colab": {
          "base_uri": "https://localhost:8080/"
        },
        "id": "J61JHz4sWiOh",
        "outputId": "28253331-c99a-4c8c-8c19-0b4c62ea5ce3"
      },
      "execution_count": null,
      "outputs": [
        {
          "output_type": "stream",
          "name": "stdout",
          "text": [
            "A cidade escolhida é: Araraquara\n"
          ]
        }
      ]
    },
    {
      "cell_type": "code",
      "source": [
        "# Método append adiciona um elemento ao final da lista\n",
        "a = [1, 2, 3]\n",
        "a.append(15)\n",
        "print(a)"
      ],
      "metadata": {
        "colab": {
          "base_uri": "https://localhost:8080/"
        },
        "id": "bVvmHQ8nXYup",
        "outputId": "68b64208-b771-45d1-d6d2-12435194ccac"
      },
      "execution_count": null,
      "outputs": [
        {
          "output_type": "stream",
          "name": "stdout",
          "text": [
            "[1, 2, 3, 15]\n"
          ]
        }
      ]
    },
    {
      "cell_type": "code",
      "source": [
        "# Utilizando for para adicionar os itens de b na lista a\n",
        "b = [7, 8, 9]\n",
        "for i in b:\n",
        "  a.append(i)\n",
        "print(a)"
      ],
      "metadata": {
        "colab": {
          "base_uri": "https://localhost:8080/"
        },
        "id": "iMhPCLXUX4FN",
        "outputId": "374254e8-61d2-48e1-88b2-89b587c9f7d3"
      },
      "execution_count": null,
      "outputs": [
        {
          "output_type": "stream",
          "name": "stdout",
          "text": [
            "[1, 2, 3, 15, 7, 8, 9]\n"
          ]
        }
      ]
    }
  ]
}